{
 "cells": [
  {
   "cell_type": "code",
   "execution_count": 3,
   "metadata": {
    "collapsed": false,
    "nbpresent": {
     "id": "ea2e8234-eebd-4b01-b5af-4b353a773aba"
    }
   },
   "outputs": [
    {
     "name": "stderr",
     "output_type": "stream",
     "text": [
      "C:\\Users\\xd21\\AppData\\Local\\Continuum\\Anaconda3\\lib\\site-packages\\sklearn\\cross_validation.py:44: DeprecationWarning: This module was deprecated in version 0.18 in favor of the model_selection module into which all the refactored classes and functions are moved. Also note that the interface of the new CV iterators are different from that of this module. This module will be removed in 0.20.\n",
      "  \"This module will be removed in 0.20.\", DeprecationWarning)\n"
     ]
    }
   ],
   "source": [
    "import pandas as pd\n",
    "import numpy as np\n",
    "from sklearn.ensemble import RandomForestClassifier\n",
    "from sklearn.cross_validation import train_test_split\n",
    "from sklearn.model_selection import KFold\n",
    "from sklearn import cross_validation\n",
    "import timeit\n",
    "from sklearn import svm\n",
    "from sklearn.model_selection import cross_val_score"
   ]
  },
  {
   "cell_type": "code",
   "execution_count": 2,
   "metadata": {
    "collapsed": false,
    "nbpresent": {
     "id": "d03be4bf-157b-45f9-8fa2-f0f6927c81cb"
    }
   },
   "outputs": [],
   "source": [
    "df = pd.read_csv('data0.csv', low_memory=False)"
   ]
  },
  {
   "cell_type": "code",
   "execution_count": 3,
   "metadata": {
    "collapsed": false,
    "nbpresent": {
     "id": "3b809b77-800c-45de-83a2-7971f0dff229"
    }
   },
   "outputs": [],
   "source": [
    "class_original = df['class']\n",
    "del df['class']"
   ]
  },
  {
   "cell_type": "code",
   "execution_count": 4,
   "metadata": {
    "collapsed": true,
    "nbpresent": {
     "id": "48443bc9-a70e-4466-b18b-93d91640c10f"
    }
   },
   "outputs": [],
   "source": [
    "df_x = df.drop('newclass', axis = 1).astype(np.float)\n",
    "df_y =  df['newclass'].astype('category')\n",
    "s_x = df_x[0:10000]\n",
    "s_y = df_y[0:10000]\n",
    "\n",
    "t_x = df_x[10000:10030]\n",
    "t_y = df_y[10000:10030]"
   ]
  },
  {
   "cell_type": "code",
   "execution_count": null,
   "metadata": {
    "collapsed": true
   },
   "outputs": [],
   "source": [
    "# 5 folds cross validation on Random Forest, using original categories\n",
    "\n",
    "start = timeit.default_timer()\n",
    "num_folds = 5\n",
    "num_instances = len(df)\n",
    "seed = 7\n",
    "num_trees = 500\n",
    "max_features = 'auto'\n",
    "kfold = cross_validation.KFold(n=num_instances, n_folds=num_folds, random_state=seed)\n",
    "model = RandomForestClassifier(n_estimators=num_trees, max_features=max_features,\n",
    "min_samples_leaf=50)\n",
    "\n",
    "results= cross_val_score(model, df_x,  \n",
    "                        class_original.astype('category'), cv=kfold, n_jobs=-1)\n",
    "\n",
    "\n",
    "stop = timeit.default_timer()\n",
    "\n",
    "print(stop - start) \n",
    "\n",
    "print(results)"
   ]
  },
  {
   "cell_type": "code",
   "execution_count": 29,
   "metadata": {
    "collapsed": false,
    "nbpresent": {
     "id": "35096586-3f43-4ad9-9a06-af53fa84f553"
    }
   },
   "outputs": [
    {
     "name": "stdout",
     "output_type": "stream",
     "text": [
      "576.7984897810531\n",
      "[ 0.5059921   0.50845792  0.51281211  0.51338116  0.51098427]\n"
     ]
    }
   ],
   "source": [
    "# 5 folds cross validation on Random Forest\n",
    "\n",
    "start = timeit.default_timer()\n",
    "num_folds = 5\n",
    "num_instances = len(df)\n",
    "seed = 7\n",
    "num_trees = 500\n",
    "max_features = 'auto'\n",
    "kfold = cross_validation.KFold(n=num_instances, n_folds=num_folds, random_state=seed)\n",
    "model = RandomForestClassifier(n_estimators=num_trees, max_features=max_features,\n",
    "min_samples_leaf=50)\n",
    "\n",
    "results= cross_val_score(model, df.drop('newclass', axis = 1).astype(np.float),  \n",
    "                         df['newclass'].astype('category'), cv=kfold, n_jobs=-1)\n",
    "\n",
    "\n",
    "stop = timeit.default_timer()\n",
    "\n",
    "print(stop - start) \n",
    "\n",
    "print(results)"
   ]
  },
  {
   "cell_type": "code",
   "execution_count": 27,
   "metadata": {
    "collapsed": false,
    "nbpresent": {
     "id": "d62e207e-1928-40ff-a702-2651ff8e1d7b"
    }
   },
   "outputs": [
    {
     "name": "stdout",
     "output_type": "stream",
     "text": [
      "[ 0.45784047  0.45308135  0.45882191  0.45851152  0.45544213  0.45482135\n",
      "  0.45720099  0.45282108  0.45423507  0.45940819]\n",
      "[ 0.46594475  0.45859917  0.46644365  0.46461581  0.46151193  0.46458132\n",
      "  0.46689199  0.46323631  0.46396055  0.46468478]\n",
      "[ 0.46559989  0.45984067  0.46509863  0.46792661  0.46292592  0.46482273\n",
      "  0.46551248  0.46285695  0.46599531  0.46782315]\n",
      "[ 0.46815188  0.46570335  0.47082356  0.4696165   0.46592633  0.46785764\n",
      "  0.47144434  0.47027176  0.46927162  0.47341013]\n",
      "[ 0.47304894  0.46739318  0.47506553  0.4762381   0.46634018  0.47137536\n",
      "  0.47306525  0.47316871  0.4729273   0.47303076]\n",
      "[ 0.47504914  0.47246267  0.47661746  0.47492758  0.46982342  0.47178921\n",
      "  0.47565181  0.47599669  0.4729273   0.47589323]\n",
      "[ 0.47898058  0.47463531  0.47510001  0.47823838  0.47189267  0.47368603\n",
      "  0.47716926  0.47782453  0.47334115  0.47720375]\n",
      "[ 0.47984274  0.47446288  0.47668644  0.47599669  0.47572079  0.47675541\n",
      "  0.4814802   0.47934198  0.47768658  0.48003173]\n",
      "666.0346688819594\n"
     ]
    }
   ],
   "source": [
    "# 10 folds cross validation on 4-NN\n",
    "\n",
    "from sklearn.neighbors import KNeighborsClassifier\n",
    "\n",
    "\n",
    "\n",
    "start = timeit.default_timer()\n",
    "num_folds = 10\n",
    "num_instances = len(df)\n",
    "seed = 7\n",
    "\n",
    "for i in range(3,11):\n",
    "    kfold = cross_validation.KFold(n=num_instances, n_folds=num_folds, random_state=seed)\n",
    "    knn_model = KNeighborsClassifier(n_neighbors = i, n_jobs=-1)\n",
    "\n",
    "    results_knn = cross_val_score(knn_model, df_x,  \n",
    "                             df_y, cv=kfold, n_jobs=-1)\n",
    "    print(results_knn)\n",
    "\n",
    "\n",
    "stop = timeit.default_timer()\n",
    "\n",
    "print(stop - start) \n",
    "\n",
    "# print(results_knn)"
   ]
  },
  {
   "cell_type": "code",
   "execution_count": null,
   "metadata": {
    "collapsed": true,
    "nbpresent": {
     "id": "fd7e1d2f-ae8b-4c8b-a2d8-7738c7f3e070"
    }
   },
   "outputs": [],
   "source": [
    "# 10 folds cross validation on boosting\n",
    "\n",
    "from sklearn.ensemble import GradientBoostingClassifier\n",
    "\n",
    "\n",
    "\n",
    "start = timeit.default_timer()\n",
    "num_folds = 10\n",
    "num_instances = len(df)\n",
    "seed = 7\n",
    "\n",
    "\n",
    "kfold = cross_validation.KFold(n=num_instances, n_folds=num_folds, random_state=seed)\n",
    "\n",
    "boost_model = GradientBoostingClassifier()\n",
    "\n",
    "results_boost = cross_val_score(boost_model, df_x, df_y, cv=kfold, n_jobs=-1)\n",
    "print(results_boost)\n",
    "\n",
    "\n",
    "stop = timeit.default_timer()\n",
    "\n",
    "print(stop - start) \n",
    "\n",
    "print(results_boost)"
   ]
  },
  {
   "cell_type": "code",
   "execution_count": null,
   "metadata": {
    "collapsed": false,
    "nbpresent": {
     "id": "6a595716-8139-40b3-96eb-7de8f1e12241"
    }
   },
   "outputs": [],
   "source": [
    "# 10 folds cross validation on Ridge Regression\n",
    "\n",
    "from sklearn.linear_model import LogisticRegression\n",
    "\n",
    "\n",
    "start = timeit.default_timer()\n",
    "num_folds = 5\n",
    "num_instances = len(df)\n",
    "seed = 7\n",
    "\n",
    "\n",
    "kfold = cross_validation.KFold(n=num_instances, n_folds=num_folds, random_state=seed)\n",
    "\n",
    "for i in [1000]:\n",
    "    lasso_model = LogisticRegression(penalty = 'l1', n_jobs = -1, solver = 'liblinear', C = i)\n",
    "\n",
    "    results_lasso = cross_val_score(lasso_model, df_x, df_y, cv=kfold, n_jobs=-1)\n",
    "    print(results_lasso)\n",
    "\n",
    "\n",
    "stop = timeit.default_timer()\n",
    "\n",
    "print(stop - start) \n",
    "\n"
   ]
  },
  {
   "cell_type": "code",
   "execution_count": 3,
   "metadata": {
    "collapsed": false,
    "nbpresent": {
     "id": "a69290af-6ef0-4b82-ae33-e5b92891c8ef"
    }
   },
   "outputs": [],
   "source": [
    "################## New Data\n",
    "df1 = pd.read_csv('new.csv', low_memory=False)\n",
    "\n",
    "df1_x = df1.drop('newclass', axis = 1).astype(np.float)\n",
    "df1_y =  df1['newclass'].astype('category')\n"
   ]
  },
  {
   "cell_type": "code",
   "execution_count": 4,
   "metadata": {
    "collapsed": false,
    "nbpresent": {
     "id": "553e9b66-60d8-4bd3-a39c-c58b20237e69"
    },
    "scrolled": true
   },
   "outputs": [
    {
     "name": "stdout",
     "output_type": "stream",
     "text": [
      "880.7879981256418\n",
      "[ 0.50499198  0.50823375  0.51143261  0.51270865  0.50924265]\n"
     ]
    }
   ],
   "source": [
    "# 5 folds cross validation on Random Forest\n",
    "\n",
    "start = timeit.default_timer()\n",
    "num_folds = 5\n",
    "num_instances = len(df1)\n",
    "seed = 7\n",
    "num_trees = 500\n",
    "max_features = 'auto'\n",
    "kfold = cross_validation.KFold(n=num_instances, n_folds=num_folds, random_state=seed)\n",
    "model = RandomForestClassifier(n_estimators=num_trees, max_features=max_features,\n",
    "min_samples_leaf=50)\n",
    "\n",
    "results1= cross_val_score(model, df1_x, df1_y, cv=kfold, n_jobs=-1)\n",
    "\n",
    "\n",
    "stop = timeit.default_timer()\n",
    "\n",
    "print(stop - start) \n",
    "\n",
    "print(results1)"
   ]
  },
  {
   "cell_type": "code",
   "execution_count": 6,
   "metadata": {
    "collapsed": false,
    "nbpresent": {
     "id": "40ae3f39-66ee-4ba3-b1a8-87bd393791b2"
    }
   },
   "outputs": [
    {
     "data": {
      "text/plain": [
       "array([ 0.50499198,  0.50823375,  0.51143261,  0.51270865,  0.50924265])"
      ]
     },
     "execution_count": 6,
     "metadata": {},
     "output_type": "execute_result"
    }
   ],
   "source": [
    "results1"
   ]
  },
  {
   "cell_type": "code",
   "execution_count": 11,
   "metadata": {
    "collapsed": false,
    "nbpresent": {
     "id": "ac0bb62f-18e4-4f71-b6fd-9dafe5fc2514"
    }
   },
   "outputs": [
    {
     "name": "stdout",
     "output_type": "stream",
     "text": [
      "[ 0.45759906  0.45297789  0.45889088  0.45833908  0.45520072  0.45478687\n",
      "  0.45751138  0.45306249  0.45430404  0.45920127]\n",
      "[ 0.46611718  0.45859917  0.46647813  0.46454683  0.46120155  0.46440888\n",
      "  0.46702994  0.46313285  0.46399503  0.46475376]\n",
      "[ 0.46549643  0.45984067  0.46496068  0.46792661  0.46285695  0.46482273\n",
      "  0.46571941  0.46285695  0.46613326  0.4679611 ]\n",
      "[ 0.46801393  0.46559989  0.47103049  0.46958201  0.46582287  0.46765071\n",
      "  0.4712719   0.47034074  0.46916816  0.47327218]\n",
      "[ 0.4731524   0.46742766  0.47520348  0.47620361  0.4663057   0.47137536\n",
      "  0.47313423  0.47327218  0.47285833  0.47309974]\n",
      "[ 0.4751526   0.47249715  0.47661746  0.47482411  0.46985791  0.4718237\n",
      "  0.47561733  0.47603118  0.47303076  0.47582425]\n",
      "[ 0.47884264  0.47453185  0.47510001  0.47813492  0.47189267  0.47378949\n",
      "  0.47720375  0.4778935   0.47341013  0.47716926]\n",
      "[ 0.47973928  0.47460082  0.47682439  0.47606566  0.47585874  0.47689336\n",
      "  0.48154918  0.47930749  0.4776176   0.4801007 ]\n",
      "737.6812171833371\n"
     ]
    }
   ],
   "source": [
    "from sklearn.neighbors import KNeighborsClassifier\n",
    "\n",
    "\n",
    "\n",
    "start = timeit.default_timer()\n",
    "num_folds = 10\n",
    "num_instances = len(df1)\n",
    "seed = 7\n",
    "\n",
    "for i in range(3,11):\n",
    "    kfold = cross_validation.KFold(n=num_instances, n_folds=num_folds, random_state=seed)\n",
    "    knn_model = KNeighborsClassifier(n_neighbors = i, n_jobs=-1)\n",
    "\n",
    "    results1_knn = cross_val_score(knn_model, df1_x,  \n",
    "                             df1_y, cv=kfold, n_jobs=-1)\n",
    "    print(results1_knn)\n",
    "\n",
    "\n",
    "stop = timeit.default_timer()\n",
    "\n",
    "print(stop - start) \n",
    "\n",
    "# print(results_knn)"
   ]
  },
  {
   "cell_type": "code",
   "execution_count": 4,
   "metadata": {
    "collapsed": false
   },
   "outputs": [],
   "source": [
    "###   Use 30,000 DataSet, Original Categories\n",
    "df = pd.read_csv('data_sample.csv', low_memory=False)\n",
    "\n",
    "class_original = df['class']\n",
    "del df['class']\n",
    "\n",
    "df_x = df.drop('newclass', axis = 1).astype(np.float)\n",
    "df_y =  df['newclass'].astype('category')\n"
   ]
  },
  {
   "cell_type": "code",
   "execution_count": 6,
   "metadata": {
    "collapsed": false
   },
   "outputs": [
    {
     "name": "stdout",
     "output_type": "stream",
     "text": [
      "46.923436047106634\n",
      "[ 0.22222222  0.46856287  0.21390552  0.25465735  0.33133733]\n"
     ]
    }
   ],
   "source": [
    "\n",
    "# 5 folds cross validation on Random Forest\n",
    "\n",
    "start = timeit.default_timer()\n",
    "num_folds = 5\n",
    "num_instances = len(df)\n",
    "seed = 7\n",
    "num_trees = 500\n",
    "max_features = 'auto'\n",
    "kfold = cross_validation.KFold(n=num_instances, n_folds=num_folds, random_state=seed)\n",
    "model = RandomForestClassifier(n_estimators=num_trees, max_features=max_features,\n",
    "min_samples_leaf=50)\n",
    "\n",
    "results1= cross_val_score(model, df_x, df_y, cv=kfold, n_jobs=-1)\n",
    "\n",
    "\n",
    "stop = timeit.default_timer()\n",
    "\n",
    "print(stop - start) \n",
    "\n",
    "print(results1)"
   ]
  },
  {
   "cell_type": "code",
   "execution_count": 5,
   "metadata": {
    "collapsed": false
   },
   "outputs": [],
   "source": [
    "# read in original new data set and take test set\n",
    "df1 = pd.read_csv('new.csv', low_memory=False)\n",
    "\n",
    "df1_x = df1.drop('newclass', axis = 1).astype(np.float)\n",
    "df1_y =  df1['newclass'].astype('category')\n",
    "\n"
   ]
  },
  {
   "cell_type": "code",
   "execution_count": 6,
   "metadata": {
    "collapsed": false
   },
   "outputs": [],
   "source": [
    "from numpy.random import randint\n",
    "import random\n",
    "\n",
    "random.seed(123)\n",
    "idx = randint(0,len(df1_x), 100000)\n",
    "test_x = df1_x.loc[idx]\n",
    "test_y = df1_y[idx]"
   ]
  },
  {
   "cell_type": "code",
   "execution_count": 7,
   "metadata": {
    "collapsed": false,
    "scrolled": true
   },
   "outputs": [],
   "source": [
    "df_x = df.drop('newclass', axis = 1).astype(np.float)\n",
    "df_y =  df['newclass'].astype('category')\n",
    "\n",
    "# Random Forest\n",
    "\n",
    "\n",
    "num_instances = len(df)\n",
    "seed = 7\n",
    "num_trees = 500\n",
    "max_features = 'auto'\n",
    "\n",
    "model = RandomForestClassifier(n_estimators=num_trees, max_features=max_features,\n",
    "min_samples_leaf=50)\n",
    "model = model.fit(df_x, df_y)\n"
   ]
  },
  {
   "cell_type": "code",
   "execution_count": 8,
   "metadata": {
    "collapsed": false
   },
   "outputs": [
    {
     "name": "stdout",
     "output_type": "stream",
     "text": [
      "0.49943\n"
     ]
    }
   ],
   "source": [
    "pred1 = model.predict(test_x)\n",
    "print(np.sum(np.sum(test_y == pred1)/len(test_x)))"
   ]
  },
  {
   "cell_type": "code",
   "execution_count": 9,
   "metadata": {
    "collapsed": true
   },
   "outputs": [],
   "source": [
    "# 10-NN\n",
    "\n",
    "from sklearn.neighbors import KNeighborsClassifier\n",
    "\n",
    "knn_model = KNeighborsClassifier(n_neighbors = 10, n_jobs=-1)\n",
    "knn_model = knn_model.fit(df_x, df_y)\n"
   ]
  },
  {
   "cell_type": "code",
   "execution_count": 10,
   "metadata": {
    "collapsed": false
   },
   "outputs": [
    {
     "name": "stdout",
     "output_type": "stream",
     "text": [
      "0.47204\n"
     ]
    }
   ],
   "source": [
    "pred_knn = knn_model.predict(test_x)\n",
    "print(np.sum(np.sum(test_y == pred_knn)/len(test_x)))"
   ]
  },
  {
   "cell_type": "code",
   "execution_count": 11,
   "metadata": {
    "collapsed": false
   },
   "outputs": [],
   "source": [
    "# 8-NN\n",
    "\n",
    "from sklearn.neighbors import KNeighborsClassifier\n",
    "\n",
    "knn_model = KNeighborsClassifier(n_neighbors = 8, n_jobs=-1)\n",
    "knn_model = knn_model.fit(df_x, df_y)"
   ]
  },
  {
   "cell_type": "code",
   "execution_count": 12,
   "metadata": {
    "collapsed": false
   },
   "outputs": [
    {
     "name": "stdout",
     "output_type": "stream",
     "text": [
      "0.47042\n"
     ]
    }
   ],
   "source": [
    "pred_knn = knn_model.predict(test_x)\n",
    "print(np.sum(np.sum(test_y == pred_knn)/len(test_x)))"
   ]
  },
  {
   "cell_type": "code",
   "execution_count": 13,
   "metadata": {
    "collapsed": false,
    "scrolled": true
   },
   "outputs": [],
   "source": [
    "# 6-NN\n",
    "\n",
    "from sklearn.neighbors import KNeighborsClassifier\n",
    "\n",
    "knn_model = KNeighborsClassifier(n_neighbors = 6, n_jobs=-1)\n",
    "knn_model = knn_model.fit(df_x, df_y)"
   ]
  },
  {
   "cell_type": "code",
   "execution_count": 14,
   "metadata": {
    "collapsed": false
   },
   "outputs": [
    {
     "name": "stdout",
     "output_type": "stream",
     "text": [
      "0.468\n"
     ]
    }
   ],
   "source": [
    "pred_knn = knn_model.predict(test_x)\n",
    "print(np.sum(np.sum(test_y == pred_knn)/len(test_x)))"
   ]
  },
  {
   "cell_type": "code",
   "execution_count": 15,
   "metadata": {
    "collapsed": true
   },
   "outputs": [],
   "source": [
    "# Boosting\n",
    "\n",
    "from sklearn.ensemble import GradientBoostingClassifier\n",
    "\n",
    "\n",
    "boost_model = GradientBoostingClassifier()\n",
    "\n",
    "boost_model = boost_model.fit(df_x, df_y)\n"
   ]
  },
  {
   "cell_type": "code",
   "execution_count": 49,
   "metadata": {
    "collapsed": false
   },
   "outputs": [
    {
     "name": "stdout",
     "output_type": "stream",
     "text": [
      "0.50361\n"
     ]
    }
   ],
   "source": [
    "pred_boost = boost_model.predict(test_x)\n",
    "print(np.sum(np.sum(test_y == pred_boost)/len(test_x)))"
   ]
  },
  {
   "cell_type": "code",
   "execution_count": 16,
   "metadata": {
    "collapsed": false
   },
   "outputs": [],
   "source": [
    "# Ridge Regression\n",
    "\n",
    "from sklearn.linear_model import LogisticRegression\n",
    "\n",
    "lasso_model = LogisticRegression(penalty = 'l1', n_jobs = -1, solver = 'liblinear', C = 147)\n",
    "\n",
    "lasso_model = lasso_model.fit(df_x, df_y)"
   ]
  },
  {
   "cell_type": "code",
   "execution_count": 1,
   "metadata": {
    "collapsed": false
   },
   "outputs": [
    {
     "ename": "NameError",
     "evalue": "name 'lasso_model' is not defined",
     "output_type": "error",
     "traceback": [
      "\u001b[0;31m---------------------------------------------------------------------------\u001b[0m",
      "\u001b[0;31mNameError\u001b[0m                                 Traceback (most recent call last)",
      "\u001b[0;32m<ipython-input-1-dfafd07a1f25>\u001b[0m in \u001b[0;36m<module>\u001b[0;34m()\u001b[0m\n\u001b[0;32m----> 1\u001b[0;31m \u001b[0mpred_las\u001b[0m \u001b[1;33m=\u001b[0m \u001b[0mlasso_model\u001b[0m\u001b[1;33m.\u001b[0m\u001b[0mpredict\u001b[0m\u001b[1;33m(\u001b[0m\u001b[0mtest_x\u001b[0m\u001b[1;33m)\u001b[0m\u001b[1;33m\u001b[0m\u001b[0m\n\u001b[0m\u001b[1;32m      2\u001b[0m \u001b[0mprint\u001b[0m\u001b[1;33m(\u001b[0m\u001b[0mnp\u001b[0m\u001b[1;33m.\u001b[0m\u001b[0msum\u001b[0m\u001b[1;33m(\u001b[0m\u001b[0mnp\u001b[0m\u001b[1;33m.\u001b[0m\u001b[0msum\u001b[0m\u001b[1;33m(\u001b[0m\u001b[0mtest_y\u001b[0m \u001b[1;33m==\u001b[0m \u001b[0mpred_las\u001b[0m\u001b[1;33m)\u001b[0m\u001b[1;33m/\u001b[0m\u001b[0mlen\u001b[0m\u001b[1;33m(\u001b[0m\u001b[0mtest_x\u001b[0m\u001b[1;33m)\u001b[0m\u001b[1;33m)\u001b[0m\u001b[1;33m)\u001b[0m\u001b[1;33m\u001b[0m\u001b[0m\n",
      "\u001b[0;31mNameError\u001b[0m: name 'lasso_model' is not defined"
     ]
    }
   ],
   "source": [
    "pred_las = lasso_model.predict(test_x)\n",
    "print(np.sum(np.sum(test_y == pred_las)/len(test_x)))"
   ]
  },
  {
   "cell_type": "code",
   "execution_count": 17,
   "metadata": {
    "collapsed": true
   },
   "outputs": [],
   "source": [
    "# Lasso Regression\n",
    "\n",
    "from sklearn.linear_model import LogisticRegression\n",
    "\n",
    "las_model = LogisticRegression(penalty = 'l2', n_jobs = -1, solver = 'sag', C = 147)\n",
    "\n",
    "las_model = las_model.fit(df_x, df_y)"
   ]
  },
  {
   "cell_type": "code",
   "execution_count": 53,
   "metadata": {
    "collapsed": false
   },
   "outputs": [
    {
     "name": "stdout",
     "output_type": "stream",
     "text": [
      "0.43274\n"
     ]
    }
   ],
   "source": [
    "pred_lasso = las_model.predict(test_x)\n",
    "print(np.sum(np.sum(test_y == pred_lasso)/len(test_x)))"
   ]
  },
  {
   "cell_type": "code",
   "execution_count": 26,
   "metadata": {
    "collapsed": true
   },
   "outputs": [],
   "source": [
    "# new test set\n",
    "random.seed(24)\n",
    "idx = randint(0,len(df1_x), 100000)\n",
    "test_x = df1_x.loc[idx]\n",
    "test_y = df1_y[idx]\n"
   ]
  },
  {
   "cell_type": "code",
   "execution_count": 27,
   "metadata": {
    "collapsed": false
   },
   "outputs": [
    {
     "name": "stdout",
     "output_type": "stream",
     "text": [
      "0.50238\n"
     ]
    }
   ],
   "source": [
    "# RF\n",
    "pred1 = model.predict(test_x)\n",
    "print(np.sum(np.sum(test_y == pred1)/len(test_x)))"
   ]
  },
  {
   "cell_type": "code",
   "execution_count": 28,
   "metadata": {
    "collapsed": false
   },
   "outputs": [
    {
     "name": "stdout",
     "output_type": "stream",
     "text": [
      "0.47327\n"
     ]
    }
   ],
   "source": [
    "# 10-NN\n",
    "\n",
    "from sklearn.neighbors import KNeighborsClassifier\n",
    "\n",
    "knn_model = KNeighborsClassifier(n_neighbors = 10, n_jobs=-1)\n",
    "knn_model = knn_model.fit(df_x, df_y)\n",
    "pred_knn = knn_model.predict(test_x)\n",
    "print(np.sum(np.sum(test_y == pred_knn)/len(test_x)))"
   ]
  },
  {
   "cell_type": "code",
   "execution_count": 29,
   "metadata": {
    "collapsed": false
   },
   "outputs": [
    {
     "name": "stdout",
     "output_type": "stream",
     "text": [
      "0.47126\n"
     ]
    }
   ],
   "source": [
    "# 8-NN\n",
    "\n",
    "from sklearn.neighbors import KNeighborsClassifier\n",
    "\n",
    "knn_model = KNeighborsClassifier(n_neighbors = 8, n_jobs=-1)\n",
    "knn_model = knn_model.fit(df_x, df_y)\n",
    "pred_knn = knn_model.predict(test_x)\n",
    "print(np.sum(np.sum(test_y == pred_knn)/len(test_x)))"
   ]
  },
  {
   "cell_type": "code",
   "execution_count": 30,
   "metadata": {
    "collapsed": false
   },
   "outputs": [
    {
     "name": "stdout",
     "output_type": "stream",
     "text": [
      "0.46937\n"
     ]
    }
   ],
   "source": [
    "# 6-NN\n",
    "\n",
    "from sklearn.neighbors import KNeighborsClassifier\n",
    "\n",
    "knn_model = KNeighborsClassifier(n_neighbors = 6, n_jobs=-1)\n",
    "knn_model = knn_model.fit(df_x, df_y)\n",
    "pred_knn = knn_model.predict(test_x)\n",
    "print(np.sum(np.sum(test_y == pred_knn)/len(test_x)))"
   ]
  },
  {
   "cell_type": "code",
   "execution_count": 31,
   "metadata": {
    "collapsed": false
   },
   "outputs": [
    {
     "name": "stdout",
     "output_type": "stream",
     "text": [
      "0.50493\n"
     ]
    }
   ],
   "source": [
    "# Boosting\n",
    "pred_boost = boost_model.predict(test_x)\n",
    "print(np.sum(np.sum(test_y == pred_boost)/len(test_x)))"
   ]
  },
  {
   "cell_type": "code",
   "execution_count": 32,
   "metadata": {
    "collapsed": false
   },
   "outputs": [
    {
     "name": "stdout",
     "output_type": "stream",
     "text": [
      "0.49328\n"
     ]
    }
   ],
   "source": [
    "# Ridge\n",
    "pred_las = lasso_model.predict(test_x)\n",
    "print(np.sum(np.sum(test_y == pred_las)/len(test_x)))"
   ]
  },
  {
   "cell_type": "code",
   "execution_count": 33,
   "metadata": {
    "collapsed": false
   },
   "outputs": [
    {
     "name": "stdout",
     "output_type": "stream",
     "text": [
      "0.43279\n"
     ]
    }
   ],
   "source": [
    "# Lasso\n",
    "pred_lasso = las_model.predict(test_x)\n",
    "print(np.sum(np.sum(test_y == pred_lasso)/len(test_x)))"
   ]
  },
  {
   "cell_type": "code",
   "execution_count": null,
   "metadata": {
    "collapsed": true
   },
   "outputs": [],
   "source": []
  }
 ],
 "metadata": {
  "anaconda-cloud": {},
  "kernelspec": {
   "display_name": "Python [default]",
   "language": "python",
   "name": "python3"
  },
  "language_info": {
   "codemirror_mode": {
    "name": "ipython",
    "version": 3
   },
   "file_extension": ".py",
   "mimetype": "text/x-python",
   "name": "python",
   "nbconvert_exporter": "python",
   "pygments_lexer": "ipython3",
   "version": "3.5.2"
  },
  "nbpresent": {
   "slides": {
    "27adb572-ef25-49c8-8d0f-01c9abdae9c0": {
     "id": "27adb572-ef25-49c8-8d0f-01c9abdae9c0",
     "prev": "e0f6b58f-df62-4d6e-9b06-f466688babc5",
     "regions": {
      "bcbbf236-99d9-4632-8e12-5a896e174ff7": {
       "attrs": {
        "height": 0.8,
        "width": 0.8,
        "x": 0.1,
        "y": 0.1
       },
       "content": {
        "cell": "ac0bb62f-18e4-4f71-b6fd-9dafe5fc2514",
        "part": "whole"
       },
       "id": "bcbbf236-99d9-4632-8e12-5a896e174ff7"
      }
     }
    },
    "3a040458-ac84-47ea-b486-3c48d45b24dc": {
     "id": "3a040458-ac84-47ea-b486-3c48d45b24dc",
     "prev": null,
     "regions": {
      "5601de23-c21d-4f36-ba1c-077e6921c744": {
       "attrs": {
        "height": 0.8,
        "width": 0.8,
        "x": 0.1,
        "y": 0.1
       },
       "content": {
        "cell": "ea2e8234-eebd-4b01-b5af-4b353a773aba",
        "part": "whole"
       },
       "id": "5601de23-c21d-4f36-ba1c-077e6921c744"
      }
     }
    },
    "4bc3abed-f7ff-446d-887a-26a5c06ea7e7": {
     "id": "4bc3abed-f7ff-446d-887a-26a5c06ea7e7",
     "prev": "fb828e92-56e5-4338-b897-253b697a031b",
     "regions": {
      "97f85efb-fa4b-46bd-a6dc-d1d8c26e220c": {
       "attrs": {
        "height": 0.8,
        "width": 0.8,
        "x": 0.1,
        "y": 0.1
       },
       "content": {
        "cell": "553e9b66-60d8-4bd3-a39c-c58b20237e69",
        "part": "whole"
       },
       "id": "97f85efb-fa4b-46bd-a6dc-d1d8c26e220c"
      }
     }
    },
    "76603c07-f2d4-427d-b614-8cd603d96e76": {
     "id": "76603c07-f2d4-427d-b614-8cd603d96e76",
     "prev": "9c78769b-6b80-408a-9312-5a5765e7d459",
     "regions": {
      "89a67e55-2037-4d36-9e28-44e77c5ff981": {
       "attrs": {
        "height": 0.8,
        "width": 0.8,
        "x": 0.1,
        "y": 0.1
       },
       "content": {
        "cell": "35096586-3f43-4ad9-9a06-af53fa84f553",
        "part": "whole"
       },
       "id": "89a67e55-2037-4d36-9e28-44e77c5ff981"
      }
     }
    },
    "8107aaa3-0070-4d25-946e-2ac75ade15b5": {
     "id": "8107aaa3-0070-4d25-946e-2ac75ade15b5",
     "prev": "a50833ac-f45b-403c-9343-79ed3858b32d",
     "regions": {
      "30ff493f-4f5f-4ccd-a956-0efa1fed9cb0": {
       "attrs": {
        "height": 0.8,
        "width": 0.8,
        "x": 0.1,
        "y": 0.1
       },
       "content": {
        "cell": "3b809b77-800c-45de-83a2-7971f0dff229",
        "part": "whole"
       },
       "id": "30ff493f-4f5f-4ccd-a956-0efa1fed9cb0"
      }
     }
    },
    "878c8153-7337-416c-9d36-63dfca538ddc": {
     "id": "878c8153-7337-416c-9d36-63dfca538ddc",
     "prev": "e0d47d46-3d51-48a2-94e5-b60aa397d5f2",
     "regions": {
      "4b290a5b-84b5-4bf9-855e-19dbfa62feb3": {
       "attrs": {
        "height": 0.8,
        "width": 0.8,
        "x": 0.1,
        "y": 0.1
       },
       "content": {
        "cell": "6a595716-8139-40b3-96eb-7de8f1e12241",
        "part": "whole"
       },
       "id": "4b290a5b-84b5-4bf9-855e-19dbfa62feb3"
      }
     }
    },
    "9c78769b-6b80-408a-9312-5a5765e7d459": {
     "id": "9c78769b-6b80-408a-9312-5a5765e7d459",
     "prev": "8107aaa3-0070-4d25-946e-2ac75ade15b5",
     "regions": {
      "c0bbe0eb-bde1-438e-8cb7-b923e2fd41ab": {
       "attrs": {
        "height": 0.8,
        "width": 0.8,
        "x": 0.1,
        "y": 0.1
       },
       "content": {
        "cell": "48443bc9-a70e-4466-b18b-93d91640c10f",
        "part": "whole"
       },
       "id": "c0bbe0eb-bde1-438e-8cb7-b923e2fd41ab"
      }
     }
    },
    "a50833ac-f45b-403c-9343-79ed3858b32d": {
     "id": "a50833ac-f45b-403c-9343-79ed3858b32d",
     "prev": "3a040458-ac84-47ea-b486-3c48d45b24dc",
     "regions": {
      "b92ade79-321e-48dd-bd5b-c4f7fbe5f3a1": {
       "attrs": {
        "height": 0.8,
        "width": 0.8,
        "x": 0.1,
        "y": 0.1
       },
       "content": {
        "cell": "d03be4bf-157b-45f9-8fa2-f0f6927c81cb",
        "part": "whole"
       },
       "id": "b92ade79-321e-48dd-bd5b-c4f7fbe5f3a1"
      }
     }
    },
    "aeea047d-9d06-465b-b375-4c9bebad74e8": {
     "id": "aeea047d-9d06-465b-b375-4c9bebad74e8",
     "prev": "76603c07-f2d4-427d-b614-8cd603d96e76",
     "regions": {
      "320833bd-6392-4854-a524-a358eb8309d8": {
       "attrs": {
        "height": 0.8,
        "width": 0.8,
        "x": 0.1,
        "y": 0.1
       },
       "content": {
        "cell": "d62e207e-1928-40ff-a702-2651ff8e1d7b",
        "part": "whole"
       },
       "id": "320833bd-6392-4854-a524-a358eb8309d8"
      }
     }
    },
    "e0d47d46-3d51-48a2-94e5-b60aa397d5f2": {
     "id": "e0d47d46-3d51-48a2-94e5-b60aa397d5f2",
     "prev": "aeea047d-9d06-465b-b375-4c9bebad74e8",
     "regions": {
      "863b7d53-e2f4-4008-908b-94d3eb31191c": {
       "attrs": {
        "height": 0.8,
        "width": 0.8,
        "x": 0.1,
        "y": 0.1
       },
       "content": {
        "cell": "fd7e1d2f-ae8b-4c8b-a2d8-7738c7f3e070",
        "part": "whole"
       },
       "id": "863b7d53-e2f4-4008-908b-94d3eb31191c"
      }
     }
    },
    "e0f6b58f-df62-4d6e-9b06-f466688babc5": {
     "id": "e0f6b58f-df62-4d6e-9b06-f466688babc5",
     "prev": "4bc3abed-f7ff-446d-887a-26a5c06ea7e7",
     "regions": {
      "60c7dcda-a59c-4331-921e-b85a75f467ce": {
       "attrs": {
        "height": 0.8,
        "width": 0.8,
        "x": 0.1,
        "y": 0.1
       },
       "content": {
        "cell": "40ae3f39-66ee-4ba3-b1a8-87bd393791b2",
        "part": "whole"
       },
       "id": "60c7dcda-a59c-4331-921e-b85a75f467ce"
      }
     }
    },
    "fb828e92-56e5-4338-b897-253b697a031b": {
     "id": "fb828e92-56e5-4338-b897-253b697a031b",
     "prev": "878c8153-7337-416c-9d36-63dfca538ddc",
     "regions": {
      "1e572c37-ddff-41a6-b7a9-91b9434794ec": {
       "attrs": {
        "height": 0.8,
        "width": 0.8,
        "x": 0.1,
        "y": 0.1
       },
       "content": {
        "cell": "a69290af-6ef0-4b82-ae33-e5b92891c8ef",
        "part": "whole"
       },
       "id": "1e572c37-ddff-41a6-b7a9-91b9434794ec"
      }
     }
    }
   },
   "themes": {}
  }
 },
 "nbformat": 4,
 "nbformat_minor": 0
}
